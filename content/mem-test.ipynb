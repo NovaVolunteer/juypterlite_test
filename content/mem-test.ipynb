{
  "metadata": {
    "language_info": {
      "codemirror_mode": {
        "name": "python",
        "version": 3
      },
      "file_extension": ".py",
      "mimetype": "text/x-python",
      "name": "python",
      "nbconvert_exporter": "python",
      "pygments_lexer": "ipython3",
      "version": "3.8"
    },
    "kernelspec": {
      "name": "python",
      "display_name": "Python (Pyodide)",
      "language": "python"
    }
  },
  "nbformat_minor": 4,
  "nbformat": 4,
  "cells": [
    {
      "cell_type": "code",
      "source": "from datetime import datetime\nnow = datetime.now()\n\nimport sys",
      "metadata": {
        "trusted": true
      },
      "execution_count": 1,
      "outputs": []
    },
    {
      "cell_type": "code",
      "source": "start_time = now.strftime(\"%H:%M:%S\")\nprint(\"Current Time Start =\", start_time)\n\nN=10000000\nx=[]\nfor i in range(N): \n    try:\n        x.append(i)\n    except MemoryError:\n        print(i)\n        print(\"Crash at Data size = {} MB\".format(sys.getsizeof(x)/1000000))        \n    \n\nprint(\"Final Data size = {} MB\".format(sys.getsizeof(x)/1000000))        \ncurrent_time = now.strftime(\"%H:%M:%S\")\nprint(\"Current Time Stop=\", current_time)",
      "metadata": {
        "trusted": true
      },
      "execution_count": 8,
      "outputs": [
        {
          "name": "stdout",
          "text": "Current Time Start = 17:02:10\nFinal Data size = 44.54758 MB\nCurrent Time Stop= 17:02:10\n",
          "output_type": "stream"
        }
      ]
    },
    {
      "cell_type": "code",
      "source": "",
      "metadata": {},
      "execution_count": null,
      "outputs": []
    }
  ]
}